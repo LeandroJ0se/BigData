{
 "cells": [
  {
   "cell_type": "code",
   "execution_count": null,
   "outputs": [],
   "source": [
    "import json\n",
    "import pandas as pd\n",
    "from kafka import KafkaConsumer, KafkaProducer\n",
    "\n",
    "####################### Train model #######################\n",
    "## aqui treinar o modelo\n",
    "## ...\n",
    "## ...\n",
    "\n",
    "\n",
    "# Kafka Consumer (Topic: streaming-bd)\n",
    "consumer = KafkaConsumer(\n",
    "    'streaming-bd',\n",
    "    bootstrap_servers='172.25.26.135:9092',\n",
    "    auto_offset_reset='earliest'\n",
    ")\n",
    "\n",
    "def serializer(message):\n",
    "    return json.dumps(message).encode('utf-8')\n",
    "\n",
    "# Kafka Producer (Topic: streaming-feedback)\n",
    "producer = KafkaProducer(\n",
    "    bootstrap_servers='172.25.26.135:9092',\n",
    "    value_serializer=serializer\n",
    ")\n",
    "\n",
    "for message in consumer:\n",
    "    data = json.loads(message.value)\n",
    "    df = pd.json_normalize(data)\n",
    "    df = pd.DataFrame.from_dict(df)\n",
    "\n",
    "    if 'id' in df.columns: \n",
    "\n",
    "        #################### New data predition\n",
    "        ## passar esta linha que chega do kafka e deolver uma mensagem como no exemplo a abaixo se tem um bom ou mau preço\n",
    "        ## avaliar aqui os dados\n",
    "        ## ...\n",
    "        ## ...\n",
    "\n",
    "\n",
    "        message = 'ID: ' + df['id'].to_string(index=False) + ' has a Good Price!'\n",
    "        print(message)\n",
    "        producer.send('streaming-feedback-bd', message)\n",
    "\n"
   ],
   "metadata": {
    "collapsed": false,
    "pycharm": {
     "name": "#%%\n"
    }
   }
  }
 ],
 "metadata": {
  "interpreter": {
   "hash": "df8f8261e415d1cd982fd9b77cef1d0f03bb069bb553091b78165945112d252a"
  },
  "kernelspec": {
   "display_name": "Python 3.10.5 64-bit (windows store)",
   "language": "python",
   "name": "python3"
  },
  "language_info": {
   "codemirror_mode": {
    "name": "ipython",
    "version": 3
   },
   "file_extension": ".py",
   "mimetype": "text/x-python",
   "name": "python",
   "nbconvert_exporter": "python",
   "pygments_lexer": "ipython3",
   "version": "3.10.5"
  }
 },
 "nbformat": 4,
 "nbformat_minor": 0
}