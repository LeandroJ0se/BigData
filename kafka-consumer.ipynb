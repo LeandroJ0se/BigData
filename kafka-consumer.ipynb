{
 "cells": [
  {
   "cell_type": "code",
   "execution_count": null,
   "metadata": {
    "collapsed": true
   },
   "outputs": [],
   "source": [
    "import json\n",
    "import pandas as pd\n",
    "from kafka import KafkaConsumer\n",
    "\n",
    "# Kafka (Topic: streaming)\n",
    "consumer = KafkaConsumer(\n",
    "    'streaming-pd',\n",
    "    bootstrap_servers='172.25.31.37:9092',\n",
    "    auto_offset_reset='earliest'\n",
    ")\n",
    "\n",
    "for message in consumer:\n",
    "    print(json.loads(message.value))\n",
    "    dict = json.loads(message.value)\n",
    "    df = pd.DataFrame.from_dict(dict, orient=\"index\")\n",
    "    print(df)"
   ]
  }
 ],
 "metadata": {
  "kernelspec": {
   "display_name": "Python 3",
   "language": "python",
   "name": "python3"
  },
  "language_info": {
   "codemirror_mode": {
    "name": "ipython",
    "version": 2
   },
   "file_extension": ".py",
   "mimetype": "text/x-python",
   "name": "python",
   "nbconvert_exporter": "python",
   "pygments_lexer": "ipython2",
   "version": "2.7.6"
  }
 },
 "nbformat": 4,
 "nbformat_minor": 0
}