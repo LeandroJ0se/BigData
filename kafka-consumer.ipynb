{
 "cells": [
  {
   "cell_type": "code",
   "execution_count": 7,
   "metadata": {
    "collapsed": true
   },
   "outputs": [
    {
     "ename": "NoBrokersAvailable",
     "evalue": "NoBrokersAvailable",
     "output_type": "error",
     "traceback": [
      "\u001b[1;31m---------------------------------------------------------------------------\u001b[0m",
      "\u001b[1;31mNoBrokersAvailable\u001b[0m                        Traceback (most recent call last)",
      "\u001b[1;32mc:\\Users\\LJ\\Documents\\GIT\\BigData\\kafka-consumer.ipynb Cell 1'\u001b[0m in \u001b[0;36m<cell line: 6>\u001b[1;34m()\u001b[0m\n\u001b[0;32m      <a href='vscode-notebook-cell:/c%3A/Users/LJ/Documents/GIT/BigData/kafka-consumer.ipynb#ch0000000?line=2'>3</a>\u001b[0m \u001b[39mfrom\u001b[39;00m \u001b[39mkafka\u001b[39;00m \u001b[39mimport\u001b[39;00m KafkaConsumer\n\u001b[0;32m      <a href='vscode-notebook-cell:/c%3A/Users/LJ/Documents/GIT/BigData/kafka-consumer.ipynb#ch0000000?line=4'>5</a>\u001b[0m \u001b[39m# Kafka (Topic: streaming)\u001b[39;00m\n\u001b[1;32m----> <a href='vscode-notebook-cell:/c%3A/Users/LJ/Documents/GIT/BigData/kafka-consumer.ipynb#ch0000000?line=5'>6</a>\u001b[0m consumer \u001b[39m=\u001b[39m KafkaConsumer(\n\u001b[0;32m      <a href='vscode-notebook-cell:/c%3A/Users/LJ/Documents/GIT/BigData/kafka-consumer.ipynb#ch0000000?line=6'>7</a>\u001b[0m     \u001b[39m'\u001b[39;49m\u001b[39mhvpu9m74-streaming\u001b[39;49m\u001b[39m'\u001b[39;49m,\n\u001b[0;32m      <a href='vscode-notebook-cell:/c%3A/Users/LJ/Documents/GIT/BigData/kafka-consumer.ipynb#ch0000000?line=7'>8</a>\u001b[0m     bootstrap_servers\u001b[39m=\u001b[39;49m\u001b[39m'\u001b[39;49m\u001b[39m172.25.31.37:9092\u001b[39;49m\u001b[39m'\u001b[39;49m,\n\u001b[0;32m      <a href='vscode-notebook-cell:/c%3A/Users/LJ/Documents/GIT/BigData/kafka-consumer.ipynb#ch0000000?line=8'>9</a>\u001b[0m     auto_offset_reset\u001b[39m=\u001b[39;49m\u001b[39m'\u001b[39;49m\u001b[39mearliest\u001b[39;49m\u001b[39m'\u001b[39;49m\n\u001b[0;32m     <a href='vscode-notebook-cell:/c%3A/Users/LJ/Documents/GIT/BigData/kafka-consumer.ipynb#ch0000000?line=9'>10</a>\u001b[0m )\n\u001b[0;32m     <a href='vscode-notebook-cell:/c%3A/Users/LJ/Documents/GIT/BigData/kafka-consumer.ipynb#ch0000000?line=11'>12</a>\u001b[0m \u001b[39mfor\u001b[39;00m message \u001b[39min\u001b[39;00m consumer:\n\u001b[0;32m     <a href='vscode-notebook-cell:/c%3A/Users/LJ/Documents/GIT/BigData/kafka-consumer.ipynb#ch0000000?line=12'>13</a>\u001b[0m     \u001b[39mprint\u001b[39m(json\u001b[39m.\u001b[39mloads(message\u001b[39m.\u001b[39mvalue))\n",
      "File \u001b[1;32m~\\AppData\\Local\\Packages\\PythonSoftwareFoundation.Python.3.10_qbz5n2kfra8p0\\LocalCache\\local-packages\\Python310\\site-packages\\kafka\\consumer\\group.py:356\u001b[0m, in \u001b[0;36mKafkaConsumer.__init__\u001b[1;34m(self, *topics, **configs)\u001b[0m\n\u001b[0;32m    <a href='file:///c%3A/Users/LJ/AppData/Local/Packages/PythonSoftwareFoundation.Python.3.10_qbz5n2kfra8p0/LocalCache/local-packages/Python310/site-packages/kafka/consumer/group.py?line=351'>352</a>\u001b[0m         \u001b[39mself\u001b[39m\u001b[39m.\u001b[39mconfig[\u001b[39m'\u001b[39m\u001b[39mapi_version\u001b[39m\u001b[39m'\u001b[39m] \u001b[39m=\u001b[39m \u001b[39mtuple\u001b[39m(\u001b[39mmap\u001b[39m(\u001b[39mint\u001b[39m, str_version\u001b[39m.\u001b[39msplit(\u001b[39m'\u001b[39m\u001b[39m.\u001b[39m\u001b[39m'\u001b[39m)))\n\u001b[0;32m    <a href='file:///c%3A/Users/LJ/AppData/Local/Packages/PythonSoftwareFoundation.Python.3.10_qbz5n2kfra8p0/LocalCache/local-packages/Python310/site-packages/kafka/consumer/group.py?line=352'>353</a>\u001b[0m     log\u001b[39m.\u001b[39mwarning(\u001b[39m'\u001b[39m\u001b[39muse api_version=\u001b[39m\u001b[39m%s\u001b[39;00m\u001b[39m [tuple] -- \u001b[39m\u001b[39m\"\u001b[39m\u001b[39m%s\u001b[39;00m\u001b[39m\"\u001b[39m\u001b[39m as str is deprecated\u001b[39m\u001b[39m'\u001b[39m,\n\u001b[0;32m    <a href='file:///c%3A/Users/LJ/AppData/Local/Packages/PythonSoftwareFoundation.Python.3.10_qbz5n2kfra8p0/LocalCache/local-packages/Python310/site-packages/kafka/consumer/group.py?line=353'>354</a>\u001b[0m                 \u001b[39mstr\u001b[39m(\u001b[39mself\u001b[39m\u001b[39m.\u001b[39mconfig[\u001b[39m'\u001b[39m\u001b[39mapi_version\u001b[39m\u001b[39m'\u001b[39m]), str_version)\n\u001b[1;32m--> <a href='file:///c%3A/Users/LJ/AppData/Local/Packages/PythonSoftwareFoundation.Python.3.10_qbz5n2kfra8p0/LocalCache/local-packages/Python310/site-packages/kafka/consumer/group.py?line=355'>356</a>\u001b[0m \u001b[39mself\u001b[39m\u001b[39m.\u001b[39m_client \u001b[39m=\u001b[39m KafkaClient(metrics\u001b[39m=\u001b[39m\u001b[39mself\u001b[39m\u001b[39m.\u001b[39m_metrics, \u001b[39m*\u001b[39m\u001b[39m*\u001b[39m\u001b[39mself\u001b[39m\u001b[39m.\u001b[39mconfig)\n\u001b[0;32m    <a href='file:///c%3A/Users/LJ/AppData/Local/Packages/PythonSoftwareFoundation.Python.3.10_qbz5n2kfra8p0/LocalCache/local-packages/Python310/site-packages/kafka/consumer/group.py?line=357'>358</a>\u001b[0m \u001b[39m# Get auto-discovered version from client if necessary\u001b[39;00m\n\u001b[0;32m    <a href='file:///c%3A/Users/LJ/AppData/Local/Packages/PythonSoftwareFoundation.Python.3.10_qbz5n2kfra8p0/LocalCache/local-packages/Python310/site-packages/kafka/consumer/group.py?line=358'>359</a>\u001b[0m \u001b[39mif\u001b[39;00m \u001b[39mself\u001b[39m\u001b[39m.\u001b[39mconfig[\u001b[39m'\u001b[39m\u001b[39mapi_version\u001b[39m\u001b[39m'\u001b[39m] \u001b[39mis\u001b[39;00m \u001b[39mNone\u001b[39;00m:\n",
      "File \u001b[1;32m~\\AppData\\Local\\Packages\\PythonSoftwareFoundation.Python.3.10_qbz5n2kfra8p0\\LocalCache\\local-packages\\Python310\\site-packages\\kafka\\client_async.py:244\u001b[0m, in \u001b[0;36mKafkaClient.__init__\u001b[1;34m(self, **configs)\u001b[0m\n\u001b[0;32m    <a href='file:///c%3A/Users/LJ/AppData/Local/Packages/PythonSoftwareFoundation.Python.3.10_qbz5n2kfra8p0/LocalCache/local-packages/Python310/site-packages/kafka/client_async.py?line=241'>242</a>\u001b[0m \u001b[39mif\u001b[39;00m \u001b[39mself\u001b[39m\u001b[39m.\u001b[39mconfig[\u001b[39m'\u001b[39m\u001b[39mapi_version\u001b[39m\u001b[39m'\u001b[39m] \u001b[39mis\u001b[39;00m \u001b[39mNone\u001b[39;00m:\n\u001b[0;32m    <a href='file:///c%3A/Users/LJ/AppData/Local/Packages/PythonSoftwareFoundation.Python.3.10_qbz5n2kfra8p0/LocalCache/local-packages/Python310/site-packages/kafka/client_async.py?line=242'>243</a>\u001b[0m     check_timeout \u001b[39m=\u001b[39m \u001b[39mself\u001b[39m\u001b[39m.\u001b[39mconfig[\u001b[39m'\u001b[39m\u001b[39mapi_version_auto_timeout_ms\u001b[39m\u001b[39m'\u001b[39m] \u001b[39m/\u001b[39m \u001b[39m1000\u001b[39m\n\u001b[1;32m--> <a href='file:///c%3A/Users/LJ/AppData/Local/Packages/PythonSoftwareFoundation.Python.3.10_qbz5n2kfra8p0/LocalCache/local-packages/Python310/site-packages/kafka/client_async.py?line=243'>244</a>\u001b[0m     \u001b[39mself\u001b[39m\u001b[39m.\u001b[39mconfig[\u001b[39m'\u001b[39m\u001b[39mapi_version\u001b[39m\u001b[39m'\u001b[39m] \u001b[39m=\u001b[39m \u001b[39mself\u001b[39;49m\u001b[39m.\u001b[39;49mcheck_version(timeout\u001b[39m=\u001b[39;49mcheck_timeout)\n",
      "File \u001b[1;32m~\\AppData\\Local\\Packages\\PythonSoftwareFoundation.Python.3.10_qbz5n2kfra8p0\\LocalCache\\local-packages\\Python310\\site-packages\\kafka\\client_async.py:927\u001b[0m, in \u001b[0;36mKafkaClient.check_version\u001b[1;34m(self, node_id, timeout, strict)\u001b[0m\n\u001b[0;32m    <a href='file:///c%3A/Users/LJ/AppData/Local/Packages/PythonSoftwareFoundation.Python.3.10_qbz5n2kfra8p0/LocalCache/local-packages/Python310/site-packages/kafka/client_async.py?line=923'>924</a>\u001b[0m \u001b[39m# Timeout\u001b[39;00m\n\u001b[0;32m    <a href='file:///c%3A/Users/LJ/AppData/Local/Packages/PythonSoftwareFoundation.Python.3.10_qbz5n2kfra8p0/LocalCache/local-packages/Python310/site-packages/kafka/client_async.py?line=924'>925</a>\u001b[0m \u001b[39melse\u001b[39;00m:\n\u001b[0;32m    <a href='file:///c%3A/Users/LJ/AppData/Local/Packages/PythonSoftwareFoundation.Python.3.10_qbz5n2kfra8p0/LocalCache/local-packages/Python310/site-packages/kafka/client_async.py?line=925'>926</a>\u001b[0m     \u001b[39mself\u001b[39m\u001b[39m.\u001b[39m_lock\u001b[39m.\u001b[39mrelease()\n\u001b[1;32m--> <a href='file:///c%3A/Users/LJ/AppData/Local/Packages/PythonSoftwareFoundation.Python.3.10_qbz5n2kfra8p0/LocalCache/local-packages/Python310/site-packages/kafka/client_async.py?line=926'>927</a>\u001b[0m     \u001b[39mraise\u001b[39;00m Errors\u001b[39m.\u001b[39mNoBrokersAvailable()\n",
      "\u001b[1;31mNoBrokersAvailable\u001b[0m: NoBrokersAvailable"
     ]
    }
   ],
   "source": [
    "import json\n",
    "import pandas as pd\n",
    "from kafka import KafkaConsumer\n",
    "\n",
    "# Kafka (Topic: streaming)\n",
    "consumer = KafkaConsumer(\n",
    "    'streaming-bd',\n",
    "    bootstrap_servers='172.25.26.135:9092',\n",
    "    auto_offset_reset='earliest'\n",
    ")\n",
    "\n",
    "for message in consumer:\n",
    "    print(json.loads(message.value))\n",
    "    dict = json.loads(message.value)\n",
    "    df = pd.DataFrame.from_dict(dict, orient=\"index\")\n",
    "    print(df)"
   ]
  },
  {
   "cell_type": "code",
   "execution_count": 6,
   "metadata": {},
   "outputs": [
    {
     "name": "stderr",
     "output_type": "stream",
     "text": [
      "%% Aborted by user\n"
     ]
    }
   ],
   "source": [
    "from confluent_kafka import Consumer, KafkaException, KafkaError\n",
    "\n",
    "conf = {\n",
    "        'bootstrap.servers': 'rocket-01.srvs.cloudkafka.com:9094, rocket-02.srvs.cloudkafka.com:9094, rocket-03.srvs.cloudkafka.com:9094',\n",
    "        'group.id': 'hvpu9m74-consumer',\n",
    "        'session.timeout.ms': 6000,\n",
    "        'default.topic.config': {'auto.offset.reset': 'smallest'},\n",
    "        'security.protocol': 'SASL_SSL',\n",
    "\t    'sasl.mechanisms': 'SCRAM-SHA-256',\n",
    "        'sasl.username': 'hvpu9m74',\n",
    "        'sasl.password': 's37nMptJ19YsHdjFv9qDH2ICJK_jw31P'\n",
    "    }\n",
    "\n",
    "c = Consumer(**conf)\n",
    "c.subscribe('hvpu9m74-streaming'.split(\",\"))\n",
    "\n",
    "try:\n",
    "    while True:\n",
    "        msg = c.poll(timeout=1.0)\n",
    "        if msg is None:\n",
    "            continue\n",
    "        if msg.error():\n",
    "            # Error or event\n",
    "            if msg.error().code() == KafkaError._PARTITION_EOF:\n",
    "                # End of partition event\n",
    "                sys.stderr.write('%% %s [%d] reached end at offset %d\\n' %\n",
    "                                    (msg.topic(), msg.partition(), msg.offset()))\n",
    "            elif msg.error():\n",
    "                # Error\n",
    "                raise KafkaException(msg.error())\n",
    "        else:\n",
    "            # Proper message\n",
    "            sys.stderr.write('%% %s [%d] at offset %d with key %s:\\n' %\n",
    "                                (msg.topic(), msg.partition(), msg.offset(),\n",
    "                                str(msg.key())))\n",
    "            print(msg.value())\n",
    "\n",
    "except KeyboardInterrupt:\n",
    "    sys.stderr.write('%% Aborted by user\\n')\n",
    "\n",
    "# Close down consumer to commit final offsets.\n",
    "c.close()"
   ]
  }
 ],
 "metadata": {
  "interpreter": {
   "hash": "df8f8261e415d1cd982fd9b77cef1d0f03bb069bb553091b78165945112d252a"
  },
  "kernelspec": {
   "display_name": "Python 3.10.5 64-bit (windows store)",
   "language": "python",
   "name": "python3"
  },
  "language_info": {
   "codemirror_mode": {
    "name": "ipython",
    "version": 3
   },
   "file_extension": ".py",
   "mimetype": "text/x-python",
   "name": "python",
   "nbconvert_exporter": "python",
   "pygments_lexer": "ipython3",
   "version": "3.10.5"
  }
 },
 "nbformat": 4,
 "nbformat_minor": 0
}
